{
 "cells": [
  {
   "cell_type": "code",
   "execution_count": 3,
   "metadata": {},
   "outputs": [],
   "source": [
    "import os\n",
    "import io\n",
    "from sklearn.feature_extraction.text import CountVectorizer\n",
    "from sklearn.naive_bayes import MultinomialNB\n",
    "import numpy\n",
    "from pandas import DataFrame\n",
    "\n",
    "def readFiles(path):\n",
    "    for root, dirnames, filenames in os.walk(path):\n",
    "        for filename in filenames:\n",
    "            path = os.path.join(root, filename)\n",
    "\n",
    "            inBody = False\n",
    "            lines = []\n",
    "            f = io.open(path, 'r', encoding='latin1')\n",
    "            for line in f:\n",
    "                if inBody:\n",
    "                    lines.append(line)\n",
    "                elif line == '\\n':\n",
    "                    inBody = True\n",
    "            f.close()\n",
    "            message = '\\n'.join(lines)\n",
    "            yield path, message\n",
    "\n",
    "\n",
    "        \n",
    "def dataFrameFromDirectory(path, classification):\n",
    "    rows = []\n",
    "    index = []\n",
    "    for filename, message in readFiles(path):\n",
    "        rows.append({'message': message, 'class': classification})\n",
    "        index.append(filename)\n",
    "\n",
    "    return DataFrame(rows, index=index)\n",
    "\n",
    "data = DataFrame({'message': [], 'class': []})\n",
    "\n",
    "data = data.append(dataFrameFromDirectory('./spam', 'spam'))\n",
    "data = data.append(dataFrameFromDirectory('./ham', 'ham'))"
   ]
  },
  {
   "cell_type": "code",
   "execution_count": 6,
   "metadata": {},
   "outputs": [
    {
     "data": {
      "text/html": [
       "<div>\n",
       "<style scoped>\n",
       "    .dataframe tbody tr th:only-of-type {\n",
       "        vertical-align: middle;\n",
       "    }\n",
       "\n",
       "    .dataframe tbody tr th {\n",
       "        vertical-align: top;\n",
       "    }\n",
       "\n",
       "    .dataframe thead th {\n",
       "        text-align: right;\n",
       "    }\n",
       "</style>\n",
       "<table border=\"1\" class=\"dataframe\">\n",
       "  <thead>\n",
       "    <tr style=\"text-align: right;\">\n",
       "      <th></th>\n",
       "      <th>message</th>\n",
       "      <th>class</th>\n",
       "    </tr>\n",
       "  </thead>\n",
       "  <tbody>\n",
       "    <tr>\n",
       "      <th>./spam/00294.df27a988d82cc82296e33e6d727ac47e</th>\n",
       "      <td>Get your favorite Poker action at http://www.m...</td>\n",
       "      <td>spam</td>\n",
       "    </tr>\n",
       "    <tr>\n",
       "      <th>./spam/00168.7422ce438a3d745e2cafb7430e5ddb0f</th>\n",
       "      <td>\\n\\n&lt;html&gt;&lt;body&gt;\\n\\n&lt;center&gt;\\n\\n&lt;table bgcolor...</td>\n",
       "      <td>spam</td>\n",
       "    </tr>\n",
       "    <tr>\n",
       "      <th>./spam/00326.5ec68244bb085cb140deb79563abd7b3</th>\n",
       "      <td>&lt;\u001b$B;v6H&lt;T\u001b(B&gt;\\n\\n\u001b$B;aL&gt;\u001b(B:Vip-mail\\n\\n\u001b$BFM...</td>\n",
       "      <td>spam</td>\n",
       "    </tr>\n",
       "    <tr>\n",
       "      <th>./spam/00253.83b95b05e275286eddcf557ea581e754</th>\n",
       "      <td>There is NO stumbling on to it! \\n\\n\\n\\nThe gr...</td>\n",
       "      <td>spam</td>\n",
       "    </tr>\n",
       "    <tr>\n",
       "      <th>./spam/00349.dd7982f40576ff4897c18efc813e38bf</th>\n",
       "      <td>Dear Free Member,\\n\\n\\n\\nYou were gifted a fre...</td>\n",
       "      <td>spam</td>\n",
       "    </tr>\n",
       "  </tbody>\n",
       "</table>\n",
       "</div>"
      ],
      "text/plain": [
       "                                                                                         message  \\\n",
       "./spam/00294.df27a988d82cc82296e33e6d727ac47e  Get your favorite Poker action at http://www.m...   \n",
       "./spam/00168.7422ce438a3d745e2cafb7430e5ddb0f  \\n\\n<html><body>\\n\\n<center>\\n\\n<table bgcolor...   \n",
       "./spam/00326.5ec68244bb085cb140deb79563abd7b3  <\u001b$B;v6H<T\u001b(B>\\n\\n\u001b$B;aL>\u001b(B:Vip-mail\\n\\n\u001b$BFM...   \n",
       "./spam/00253.83b95b05e275286eddcf557ea581e754  There is NO stumbling on to it! \\n\\n\\n\\nThe gr...   \n",
       "./spam/00349.dd7982f40576ff4897c18efc813e38bf  Dear Free Member,\\n\\n\\n\\nYou were gifted a fre...   \n",
       "\n",
       "                                              class  \n",
       "./spam/00294.df27a988d82cc82296e33e6d727ac47e  spam  \n",
       "./spam/00168.7422ce438a3d745e2cafb7430e5ddb0f  spam  \n",
       "./spam/00326.5ec68244bb085cb140deb79563abd7b3  spam  \n",
       "./spam/00253.83b95b05e275286eddcf557ea581e754  spam  \n",
       "./spam/00349.dd7982f40576ff4897c18efc813e38bf  spam  "
      ]
     },
     "execution_count": 6,
     "metadata": {},
     "output_type": "execute_result"
    }
   ],
   "source": [
    "data.head()"
   ]
  },
  {
   "cell_type": "code",
   "execution_count": 9,
   "metadata": {},
   "outputs": [
    {
     "data": {
      "text/plain": [
       "MultinomialNB()"
      ]
     },
     "execution_count": 9,
     "metadata": {},
     "output_type": "execute_result"
    }
   ],
   "source": [
    "vectorizer = CountVectorizer()\n",
    "counts = vectorizer.fit_transform(data['message'].values)\n",
    "\n",
    "classifier = MultinomialNB()\n",
    "targets = data['class'].values\n",
    "classifier.fit(counts, targets)"
   ]
  },
  {
   "cell_type": "code",
   "execution_count": 10,
   "metadata": {},
   "outputs": [
    {
     "data": {
      "text/plain": [
       "array(['spam', 'ham'], dtype='<U4')"
      ]
     },
     "execution_count": 10,
     "metadata": {},
     "output_type": "execute_result"
    }
   ],
   "source": [
    "test = [\"Free Flights to Vegas!!! Sign up below\", \"Hi Arnab, how are you doing?\"]\n",
    "test_counts = vectorizer.transform(test)\n",
    "predictions = classifier.predict(test_counts)\n",
    "predictions"
   ]
  }
 ],
 "metadata": {
  "kernelspec": {
   "display_name": "Python 3",
   "language": "python",
   "name": "python3"
  },
  "language_info": {
   "codemirror_mode": {
    "name": "ipython",
    "version": 3
   },
   "file_extension": ".py",
   "mimetype": "text/x-python",
   "name": "python",
   "nbconvert_exporter": "python",
   "pygments_lexer": "ipython3",
   "version": "3.8.5"
  }
 },
 "nbformat": 4,
 "nbformat_minor": 4
}
